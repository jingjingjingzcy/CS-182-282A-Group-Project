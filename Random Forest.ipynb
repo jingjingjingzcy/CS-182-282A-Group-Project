{
 "cells": [
  {
   "cell_type": "code",
   "execution_count": 1,
   "metadata": {},
   "outputs": [],
   "source": [
    "import pandas as pd\n",
    "import numpy as np\n",
    "import os\n",
    "import matplotlib.pyplot as plt"
   ]
  },
  {
   "cell_type": "code",
   "execution_count": 2,
   "metadata": {},
   "outputs": [],
   "source": [
    "df = pd.read_csv('all_info.csv').drop('Unnamed: 0',axis=1)"
   ]
  },
  {
   "cell_type": "code",
   "execution_count": 3,
   "metadata": {},
   "outputs": [],
   "source": [
    "df['dis'] = np.sqrt((df['x_x']-df['x_y'])**2+(df['y_x']-df['y_y'])**2)"
   ]
  },
  {
   "cell_type": "code",
   "execution_count": 4,
   "metadata": {},
   "outputs": [],
   "source": [
    "df['diff'] = np.abs(df['psi_deg_x']-df['psi_deg_y'])\n",
    "df['diff_360'] = 360-df['diff']\n",
    "df['delta'] = df[['diff', 'diff_360']].min(axis=1)"
   ]
  },
  {
   "cell_type": "code",
   "execution_count": 5,
   "metadata": {},
   "outputs": [
    {
     "data": {
      "text/plain": [
       "Index(['Instance', 'i', 'j', 'TTC', 'x_x', 'y_x', 'vx_x', 'vy_x', 'psi_rad_x',\n",
       "       'length_x', 'width_x', 'psi_deg_x', 'y_acc_x', 'x_acc_x', 'yaw_rate_x',\n",
       "       'long_acc_x', 'lat_acc_x', 'r_long_acc_x', 'r_lat_acc_x',\n",
       "       'r_yaw_rate_x', 'x_y', 'y_y', 'vx_y', 'vy_y', 'psi_rad_y', 'length_y',\n",
       "       'width_y', 'psi_deg_y', 'y_acc_y', 'x_acc_y', 'yaw_rate_y',\n",
       "       'long_acc_y', 'lat_acc_y', 'r_long_acc_y', 'r_lat_acc_y',\n",
       "       'r_yaw_rate_y', 'file', 'y', '2d ttc', 'dis', 'diff', 'diff_360',\n",
       "       'delta'],\n",
       "      dtype='object')"
      ]
     },
     "execution_count": 5,
     "metadata": {},
     "output_type": "execute_result"
    }
   ],
   "source": [
    "df.columns"
   ]
  },
  {
   "cell_type": "code",
   "execution_count": 6,
   "metadata": {},
   "outputs": [],
   "source": [
    "data = df[['Instance', 'i', 'j', 'TTC','long_acc_x','r_long_acc_x',\n",
    "           'yaw_rate_x','long_acc_y','r_long_acc_y','yaw_rate_y','delta','y','dis','file']]\n",
    "data = data.dropna(subset=['long_acc_x','r_long_acc_x','yaw_rate_x','long_acc_y','r_long_acc_y','yaw_rate_y','delta','y'])"
   ]
  },
  {
   "cell_type": "code",
   "execution_count": 7,
   "metadata": {},
   "outputs": [],
   "source": [
    "data4 = data.groupby(['i','j','file']).head(4)#11480"
   ]
  },
  {
   "cell_type": "code",
   "execution_count": 8,
   "metadata": {},
   "outputs": [],
   "source": [
    "data4 = data.groupby(['i','j','file']).head(4)\n",
    "train_test = pd.DataFrame(columns=['i_long_acc_1','i_long_acc_2','i_long_acc_3','i_long_acc_4',\n",
    "                                  'j_long_acc_1','j_long_acc_2','j_long_acc_3','j_long_acc_4',\n",
    "                                  'i_r_long_acc_1','i_r_long_acc_2','i_r_long_acc_3','i_r_long_acc_4',\n",
    "                                  'j_r_long_acc_1','j_r_long_acc_2','j_r_long_acc_3','j_r_long_acc_4',\n",
    "                                  'yaw_rate_x_1','yaw_rate_x_2','yaw_rate_x_3','yaw_rate_x_4',\n",
    "                                  'yaw_rate_y_1','yaw_rate_y_2','yaw_rate_y_3','yaw_rate_y_4',\n",
    "                                  'delta_1','delta_2','delta_3','delta_4',\n",
    "                                  'dis_1','dis_2','dis_3','dis_4',\n",
    "                                  'y','i','j','file'])\n",
    "for i in range(3620):\n",
    "    data0 = data4.iloc[4*i:4*i+4]\n",
    "    train_test.loc[i] = [data0.iloc[0]['long_acc_x'],data0.iloc[1]['long_acc_x'],data0.iloc[2]['long_acc_x'],data0.iloc[3]['long_acc_x'],\n",
    "                         data0.iloc[0]['long_acc_y'],data0.iloc[1]['long_acc_y'],data0.iloc[2]['long_acc_y'],data0.iloc[3]['long_acc_y'],\n",
    "                         data0.iloc[0]['r_long_acc_x'],data0.iloc[1]['r_long_acc_x'],data0.iloc[2]['r_long_acc_x'],data0.iloc[3]['r_long_acc_x'],\n",
    "                         data0.iloc[0]['r_long_acc_y'],data0.iloc[1]['r_long_acc_y'],data0.iloc[2]['r_long_acc_y'],data0.iloc[3]['r_long_acc_y'],\n",
    "                         data0.iloc[0]['yaw_rate_x'],data0.iloc[1]['yaw_rate_x'],data0.iloc[2]['yaw_rate_x'],data0.iloc[3]['yaw_rate_x'],\n",
    "                         data0.iloc[0]['yaw_rate_y'],data0.iloc[1]['yaw_rate_y'],data0.iloc[2]['yaw_rate_y'],data0.iloc[3]['yaw_rate_y'],\n",
    "                         data0.iloc[0]['delta'],data0.iloc[1]['delta'],data0.iloc[2]['delta'],data0.iloc[3]['delta'],\n",
    "                         data0.iloc[0]['dis'],data0.iloc[1]['dis'],data0.iloc[2]['dis'],data0.iloc[3]['dis'],\n",
    "                         data0.iloc[0]['y'],data0.iloc[0]['i'],data0.iloc[0]['j'],data0.iloc[0]['file']]"
   ]
  },
  {
   "cell_type": "code",
   "execution_count": 9,
   "metadata": {},
   "outputs": [],
   "source": [
    "X = train_test[['i_long_acc_1', 'i_long_acc_2', 'i_long_acc_3', 'i_long_acc_4',\n",
    "       'j_long_acc_1', 'j_long_acc_2', 'j_long_acc_3', 'j_long_acc_4',\n",
    "       'i_r_long_acc_1', 'i_r_long_acc_2', 'i_r_long_acc_3', 'i_r_long_acc_4',\n",
    "       'j_r_long_acc_1', 'j_r_long_acc_2', 'j_r_long_acc_3', 'j_r_long_acc_4',\n",
    "       'yaw_rate_x_1', 'yaw_rate_x_2', 'yaw_rate_x_3', 'yaw_rate_x_4',\n",
    "       'yaw_rate_y_1', 'yaw_rate_y_2', 'yaw_rate_y_3', 'yaw_rate_y_4',\n",
    "       'delta_1', 'delta_2', 'delta_3', 'delta_4', 'dis_1', 'dis_2', 'dis_3',\n",
    "       'dis_4']]\n",
    "y = train_test['y']"
   ]
  },
  {
   "cell_type": "code",
   "execution_count": 10,
   "metadata": {},
   "outputs": [],
   "source": [
    "from sklearn.ensemble import RandomForestClassifier"
   ]
  },
  {
   "cell_type": "code",
   "execution_count": 11,
   "metadata": {},
   "outputs": [],
   "source": [
    "from sklearn.model_selection import train_test_split  \n",
    "from sklearn.metrics import accuracy_score"
   ]
  },
  {
   "cell_type": "code",
   "execution_count": 12,
   "metadata": {},
   "outputs": [],
   "source": [
    "X_train, X_test, y_train, y_test = train_test_split(X, y, test_size=0.2, random_state=42)  "
   ]
  },
  {
   "cell_type": "code",
   "execution_count": 13,
   "metadata": {},
   "outputs": [],
   "source": [
    "scores = []\n",
    "scores0 = []\n",
    "for k in range(1, 200):\n",
    "    rfc = RandomForestClassifier(n_estimators=k,max_depth = 9)\n",
    "    rfc.fit(X_train, y_train)\n",
    "    y_pred = rfc.predict(X_train)\n",
    "    scores0.append(accuracy_score(y_train, y_pred))\n",
    "    y_pred = rfc.predict(X_test)\n",
    "    scores.append(accuracy_score(y_test, y_pred))\n",
    "\n",
    "import matplotlib.pyplot as plt\n",
    "%matplotlib inline\n",
    "\n",
    "# plot the relationship between K and testing accuracy\n",
    "# plt.plot(x_axis, y_axis)\n",
    "# plt.plot(range(1, 200), scores)\n",
    "# plt.plot(range(1, 200), scores[0])\n",
    "# plt.xlabel('Value of n_estimators for Random Forest Classifier')\n",
    "# plt.ylabel('Testing Accuracy')"
   ]
  },
  {
   "cell_type": "code",
   "execution_count": 20,
   "metadata": {},
   "outputs": [
    {
     "data": {
      "text/plain": [
       "Text(0, 0.5, 'Accuracy')"
      ]
     },
     "execution_count": 20,
     "metadata": {},
     "output_type": "execute_result"
    },
    {
     "data": {
      "image/png": "[encoded data removed]",
      "text/plain": [
       "<Figure size 432x288 with 1 Axes>"
      ]
     },
     "metadata": {
      "needs_background": "light"
     },
     "output_type": "display_data"
    }
   ],
   "source": [
    "plt.plot(range(1, 200), scores)\n",
    "plt.plot(range(1, 200), scores0)\n",
    "plt.xlabel('Value of n_estimators for Random Forest Classifier')\n",
    "plt.ylabel('Accuracy')"
   ]
  },
  {
   "cell_type": "code",
   "execution_count": 15,
   "metadata": {},
   "outputs": [
    {
     "data": {
      "text/plain": [
       "39"
      ]
     },
     "execution_count": 15,
     "metadata": {},
     "output_type": "execute_result"
    }
   ],
   "source": [
    "np.argmax(scores)"
   ]
  },
  {
   "cell_type": "code",
   "execution_count": 16,
   "metadata": {},
   "outputs": [],
   "source": [
    "rfc = RandomForestClassifier(n_estimators = np.argmax(scores),max_depth = 9)\n",
    "rfc.fit(X_train, y_train)\n",
    "y_pred_train = rfc.predict(X_train)\n",
    "y_pred_test = rfc.predict(X_test)"
   ]
  },
  {
   "cell_type": "code",
   "execution_count": 17,
   "metadata": {},
   "outputs": [],
   "source": [
    "train_outcome = pd.DataFrame()\n",
    "train_outcome['y'] = y_train\n",
    "train_outcome['y_hat'] = y_pred_train\n",
    "test_outcome = pd.DataFrame()\n",
    "test_outcome['y'] = y_test\n",
    "test_outcome['y_hat'] = y_pred_test"
   ]
  },
  {
   "cell_type": "code",
   "execution_count": 18,
   "metadata": {},
   "outputs": [
    {
     "name": "stdout",
     "output_type": "stream",
     "text": [
      "813 40 33 2010\n"
     ]
    }
   ],
   "source": [
    "print(len(train_outcome[(train_outcome['y']==1)&(train_outcome['y_hat']==1)]),\n",
    "len(train_outcome[(train_outcome['y']==1)&(train_outcome['y_hat']==0)]),\n",
    "len(train_outcome[(train_outcome['y']==0)&(train_outcome['y_hat']==1)]),\n",
    "len(train_outcome[(train_outcome['y']==0)&(train_outcome['y_hat']==0)]))"
   ]
  },
  {
   "cell_type": "code",
   "execution_count": 19,
   "metadata": {},
   "outputs": [
    {
     "name": "stdout",
     "output_type": "stream",
     "text": [
      "197 39 30 458\n"
     ]
    }
   ],
   "source": [
    "print(len(test_outcome[(test_outcome['y']==1)&(test_outcome['y_hat']==1)]),\n",
    "len(test_outcome[(test_outcome['y']==1)&(test_outcome['y_hat']==0)]),\n",
    "len(test_outcome[(test_outcome['y']==0)&(test_outcome['y_hat']==1)]),\n",
    "len(test_outcome[(test_outcome['y']==0)&(test_outcome['y_hat']==0)]))"
   ]
  },
  {
   "cell_type": "code",
   "execution_count": null,
   "metadata": {},
   "outputs": [],
   "source": []
  }
 ],
 "metadata": {
  "kernelspec": {
   "display_name": "Python 3",
   "language": "python",
   "name": "python3"
  },
  "language_info": {
   "codemirror_mode": {
    "name": "ipython",
    "version": 3
   },
   "file_extension": ".py",
   "mimetype": "text/x-python",
   "name": "python",
   "nbconvert_exporter": "python",
   "pygments_lexer": "ipython3",
   "version": "3.8.5"
  }
 },
 "nbformat": 4,
 "nbformat_minor": 4
}
